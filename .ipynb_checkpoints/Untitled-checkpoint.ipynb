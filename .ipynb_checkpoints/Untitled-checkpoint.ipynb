{
 "cells": [
  {
   "cell_type": "code",
   "execution_count": 1,
   "metadata": {
    "collapsed": false
   },
   "outputs": [
    {
     "name": "stdout",
     "output_type": "stream",
     "text": [
      "search: linspace LinSpace\n",
      "\n"
     ]
    },
    {
     "data": {
      "text/markdown": [
       "```\n",
       "linspace(start, stop, n=100)\n",
       "```\n",
       "\n",
       "Construct a range of `n` linearly spaced elements from `start` to `stop`.\n"
      ],
      "text/plain": [
       "```\n",
       "linspace(start, stop, n=100)\n",
       "```\n",
       "\n",
       "Construct a range of `n` linearly spaced elements from `start` to `stop`.\n"
      ]
     },
     "execution_count": 1,
     "metadata": {},
     "output_type": "execute_result"
    }
   ],
   "source": [
    "?linspace"
   ]
  },
  {
   "cell_type": "code",
   "execution_count": 2,
   "metadata": {
    "collapsed": false
   },
   "outputs": [
    {
     "name": "stdout",
     "output_type": "stream",
     "text": [
      "search: collect Collections\n",
      "\n"
     ]
    },
    {
     "data": {
      "text/markdown": [
       "```\n",
       "collect(collection)\n",
       "```\n",
       "\n",
       "Return an array of all items in a collection. For associative collections, returns Pair{KeyType, ValType}.\n",
       "\n",
       "```\n",
       "collect(element_type, collection)\n",
       "```\n",
       "\n",
       "Return an array of type `Array{element_type,1}` of all items in a collection.\n"
      ],
      "text/plain": [
       "```\n",
       "collect(collection)\n",
       "```\n",
       "\n",
       "Return an array of all items in a collection. For associative collections, returns Pair{KeyType, ValType}.\n",
       "\n",
       "```\n",
       "collect(element_type, collection)\n",
       "```\n",
       "\n",
       "Return an array of type `Array{element_type,1}` of all items in a collection.\n"
      ]
     },
     "execution_count": 2,
     "metadata": {},
     "output_type": "execute_result"
    }
   ],
   "source": [
    "?collect"
   ]
  },
  {
   "cell_type": "code",
   "execution_count": 3,
   "metadata": {
    "collapsed": false
   },
   "outputs": [
    {
     "data": {
      "text/plain": [
       "9-element Array{Float64,1}:\n",
       " 0.0  \n",
       " 0.125\n",
       " 0.25 \n",
       " 0.375\n",
       " 0.5  \n",
       " 0.625\n",
       " 0.75 \n",
       " 0.875\n",
       " 1.0  "
      ]
     },
     "execution_count": 3,
     "metadata": {},
     "output_type": "execute_result"
    }
   ],
   "source": [
    "collect(linspace(0, 1, 9))"
   ]
  },
  {
   "cell_type": "code",
   "execution_count": 4,
   "metadata": {
    "collapsed": false
   },
   "outputs": [
    {
     "name": "stdout",
     "output_type": "stream",
     "text": [
      "search: fill fill! finally filt filt! filter filter! Filter filesize filemode\n",
      "\n"
     ]
    },
    {
     "data": {
      "text/markdown": [
       "```\n",
       "fill(x, dims)\n",
       "```\n",
       "\n",
       "Create an array filled with the value `x`. For example, `fill(1.0, (10,10))` returns a 10x10 array of floats, with each element initialized to `1.0`.\n",
       "\n",
       "If `x` is an object reference, all elements will refer to the same object. `fill(Foo(), dims)` will return an array filled with the result of evaluating `Foo()` once.\n"
      ],
      "text/plain": [
       "```\n",
       "fill(x, dims)\n",
       "```\n",
       "\n",
       "Create an array filled with the value `x`. For example, `fill(1.0, (10,10))` returns a 10x10 array of floats, with each element initialized to `1.0`.\n",
       "\n",
       "If `x` is an object reference, all elements will refer to the same object. `fill(Foo(), dims)` will return an array filled with the result of evaluating `Foo()` once.\n"
      ]
     },
     "execution_count": 4,
     "metadata": {},
     "output_type": "execute_result"
    }
   ],
   "source": [
    "?fill"
   ]
  },
  {
   "cell_type": "code",
   "execution_count": 5,
   "metadata": {
    "collapsed": false
   },
   "outputs": [
    {
     "name": "stdout",
     "output_type": "stream",
     "text": [
      "search: vcat hvcat VecOrMat DenseVecOrMat StridedVecOrMat AbstractVecOrMat\n",
      "\n"
     ]
    },
    {
     "data": {
      "text/markdown": [
       "```\n",
       "vcat(A...)\n",
       "```\n",
       "\n",
       "Concatenate along dimension 1\n"
      ],
      "text/plain": [
       "```\n",
       "vcat(A...)\n",
       "```\n",
       "\n",
       "Concatenate along dimension 1\n"
      ]
     },
     "execution_count": 5,
     "metadata": {},
     "output_type": "execute_result"
    }
   ],
   "source": [
    "?vcat"
   ]
  },
  {
   "cell_type": "code",
   "execution_count": 6,
   "metadata": {
    "collapsed": false
   },
   "outputs": [
    {
     "name": "stdout",
     "output_type": "stream",
     "text": [
      "search: cumsum cumsum! cumsum_kbn\n",
      "\n"
     ]
    },
    {
     "data": {
      "text/markdown": [
       "```rst\n",
       "..  cumsum(A, [dim])\n",
       "\n",
       "Cumulative sum along a dimension ``dim`` (defaults to 1).\n",
       "See also :func:`cumsum!` to use a preallocated output array,\n",
       "both for performance and to control the precision of the\n",
       "output (e.g. to avoid overflow).\n",
       "```\n"
      ],
      "text/plain": [
       "```rst\n",
       "..  cumsum(A, [dim])\n",
       "\n",
       "Cumulative sum along a dimension ``dim`` (defaults to 1).\n",
       "See also :func:`cumsum!` to use a preallocated output array,\n",
       "both for performance and to control the precision of the\n",
       "output (e.g. to avoid overflow).\n",
       "```\n"
      ]
     },
     "execution_count": 6,
     "metadata": {},
     "output_type": "execute_result"
    }
   ],
   "source": [
    "?cumsum"
   ]
  },
  {
   "cell_type": "code",
   "execution_count": 7,
   "metadata": {
    "collapsed": false
   },
   "outputs": [
    {
     "data": {
      "text/plain": [
       "2-element Array{Int64,1}:\n",
       " 2\n",
       " 5"
      ]
     },
     "execution_count": 7,
     "metadata": {},
     "output_type": "execute_result"
    }
   ],
   "source": [
    "A = [2, 3]\n",
    "cumsum(A, 1)"
   ]
  },
  {
   "cell_type": "code",
   "execution_count": 11,
   "metadata": {
    "collapsed": false
   },
   "outputs": [
    {
     "data": {
      "text/plain": [
       "([2,3],[2,3])"
      ]
     },
     "execution_count": 11,
     "metadata": {},
     "output_type": "execute_result"
    }
   ],
   "source": [
    "[2, 3], [[2, 3]]"
   ]
  },
  {
   "cell_type": "code",
   "execution_count": 12,
   "metadata": {
    "collapsed": false
   },
   "outputs": [
    {
     "name": "stdout",
     "output_type": "stream",
     "text": [
      "search: minimum minimum! DimensionMismatch\n",
      "\n"
     ]
    },
    {
     "data": {
      "text/markdown": [
       "```\n",
       "minimum(A, dims)\n",
       "```\n",
       "\n",
       "Compute the minimum value of an array over the given dimensions.\n",
       "\n",
       "```\n",
       "minimum(itr)\n",
       "```\n",
       "\n",
       "Returns the smallest element in a collection.\n"
      ],
      "text/plain": [
       "```\n",
       "minimum(A, dims)\n",
       "```\n",
       "\n",
       "Compute the minimum value of an array over the given dimensions.\n",
       "\n",
       "```\n",
       "minimum(itr)\n",
       "```\n",
       "\n",
       "Returns the smallest element in a collection.\n"
      ]
     },
     "execution_count": 12,
     "metadata": {},
     "output_type": "execute_result"
    }
   ],
   "source": [
    "?minimum"
   ]
  },
  {
   "cell_type": "code",
   "execution_count": 14,
   "metadata": {
    "collapsed": false
   },
   "outputs": [
    {
     "data": {
      "text/plain": [
       "0.0"
      ]
     },
     "execution_count": 14,
     "metadata": {},
     "output_type": "execute_result"
    }
   ],
   "source": [
    "minimum(linspace(0, 1, 10))"
   ]
  },
  {
   "cell_type": "code",
   "execution_count": 15,
   "metadata": {
    "collapsed": false
   },
   "outputs": [
    {
     "name": "stdout",
     "output_type": "stream",
     "text": [
      "search: AbstractVector AbstractSparseVector AbstractVecOrMat\n",
      "\n"
     ]
    },
    {
     "data": {
      "text/markdown": [
       "No documentation found.\n",
       "\n",
       "`Base.AbstractVector` is of type `TypeConstructor`:\n",
       "\n",
       "**Summary:**\n",
       "\n",
       "```julia\n",
       "immutable TypeConstructor <: Type{T}\n",
       "```\n",
       "\n",
       "**Fields:**\n",
       "\n",
       "```julia\n",
       "parameters :: SimpleVector\n",
       "body       :: Any\n",
       "```\n"
      ],
      "text/plain": [
       "No documentation found.\n",
       "\n",
       "`Base.AbstractVector` is of type `TypeConstructor`:\n",
       "\n",
       "**Summary:**\n",
       "\n",
       "```julia\n",
       "immutable TypeConstructor <: Type{T}\n",
       "```\n",
       "\n",
       "**Fields:**\n",
       "\n",
       "```julia\n",
       "parameters :: SimpleVector\n",
       "body       :: Any\n",
       "```\n"
      ]
     },
     "execution_count": 15,
     "metadata": {},
     "output_type": "execute_result"
    }
   ],
   "source": [
    "?AbstractVector"
   ]
  },
  {
   "cell_type": "code",
   "execution_count": 1,
   "metadata": {
    "collapsed": false
   },
   "outputs": [
    {
     "data": {
      "text/plain": [
       "10-element Array{Float64,1}:\n",
       " 0.0\n",
       " 0.0\n",
       " 0.0\n",
       " 0.0\n",
       " 0.0\n",
       " 0.0\n",
       " 0.0\n",
       " 0.0\n",
       " 0.0\n",
       " 0.0"
      ]
     },
     "execution_count": 1,
     "metadata": {},
     "output_type": "execute_result"
    }
   ],
   "source": [
    "zeros(10)"
   ]
  },
  {
   "cell_type": "code",
   "execution_count": 2,
   "metadata": {
    "collapsed": false
   },
   "outputs": [
    {
     "name": "stdout",
     "output_type": "stream",
     "text": [
      "search: push! pushdisplay\n",
      "\n"
     ]
    },
    {
     "data": {
      "text/markdown": [
       "```rst\n",
       "..  push!(collection, items...) -> collection\n",
       "\n",
       "Insert one or more ``items`` at the end of ``collection``.\n",
       "\n",
       ".. doctest::\n",
       "\n",
       "  julia> push!([1, 2, 3], 4, 5, 6)\n",
       "  6-element Array{Int64,1}:\n",
       "   1\n",
       "   2\n",
       "   3\n",
       "   4\n",
       "   5\n",
       "   6\n",
       "\n",
       "Use :func:`append!` to add all the elements of another collection to\n",
       "``collection``.\n",
       "The result of the preceding example is equivalent to\n",
       "``append!([1, 2, 3], [4, 5, 6])``.\n",
       "```\n"
      ],
      "text/plain": [
       "```rst\n",
       "..  push!(collection, items...) -> collection\n",
       "\n",
       "Insert one or more ``items`` at the end of ``collection``.\n",
       "\n",
       ".. doctest::\n",
       "\n",
       "  julia> push!([1, 2, 3], 4, 5, 6)\n",
       "  6-element Array{Int64,1}:\n",
       "   1\n",
       "   2\n",
       "   3\n",
       "   4\n",
       "   5\n",
       "   6\n",
       "\n",
       "Use :func:`append!` to add all the elements of another collection to\n",
       "``collection``.\n",
       "The result of the preceding example is equivalent to\n",
       "``append!([1, 2, 3], [4, 5, 6])``.\n",
       "```\n"
      ]
     },
     "execution_count": 2,
     "metadata": {},
     "output_type": "execute_result"
    }
   ],
   "source": [
    "?push!"
   ]
  },
  {
   "cell_type": "code",
   "execution_count": 3,
   "metadata": {
    "collapsed": false
   },
   "outputs": [
    {
     "data": {
      "text/plain": [
       "2-element Array{Any,1}:\n",
       " 2\n",
       " 3"
      ]
     },
     "execution_count": 3,
     "metadata": {},
     "output_type": "execute_result"
    }
   ],
   "source": [
    "push!([], 2, 3)"
   ]
  },
  {
   "cell_type": "code",
   "execution_count": 4,
   "metadata": {
    "collapsed": false
   },
   "outputs": [
    {
     "data": {
      "text/plain": [
       "4-element Array{Int64,1}:\n",
       " 2\n",
       " 3\n",
       " 4\n",
       " 5"
      ]
     },
     "execution_count": 4,
     "metadata": {},
     "output_type": "execute_result"
    }
   ],
   "source": [
    "push!([2, 3], 4, 5)"
   ]
  },
  {
   "cell_type": "code",
   "execution_count": 6,
   "metadata": {
    "collapsed": false
   },
   "outputs": [
    {
     "name": "stdout",
     "output_type": "stream",
     "text": [
      "search: zeros spzeros nonzeros count_zeros set_zero_subnormals\n",
      "\n"
     ]
    },
    {
     "data": {
      "text/markdown": [
       "```\n",
       "zeros(type, dims)\n",
       "```\n",
       "\n",
       "Create an array of all zeros of specified type. The type defaults to Float64 if not specified.\n",
       "\n",
       "```\n",
       "zeros(A)\n",
       "```\n",
       "\n",
       "Create an array of all zeros with the same element type and shape as `A`.\n"
      ],
      "text/plain": [
       "```\n",
       "zeros(type, dims)\n",
       "```\n",
       "\n",
       "Create an array of all zeros of specified type. The type defaults to Float64 if not specified.\n",
       "\n",
       "```\n",
       "zeros(A)\n",
       "```\n",
       "\n",
       "Create an array of all zeros with the same element type and shape as `A`.\n"
      ]
     },
     "execution_count": 6,
     "metadata": {},
     "output_type": "execute_result"
    }
   ],
   "source": [
    "?zeros"
   ]
  },
  {
   "cell_type": "code",
   "execution_count": 7,
   "metadata": {
    "collapsed": false
   },
   "outputs": [
    {
     "data": {
      "text/plain": [
       "10x2 Array{Float64,2}:\n",
       " 0.0  0.0\n",
       " 0.0  0.0\n",
       " 0.0  0.0\n",
       " 0.0  0.0\n",
       " 0.0  0.0\n",
       " 0.0  0.0\n",
       " 0.0  0.0\n",
       " 0.0  0.0\n",
       " 0.0  0.0\n",
       " 0.0  0.0"
      ]
     },
     "execution_count": 7,
     "metadata": {},
     "output_type": "execute_result"
    }
   ],
   "source": [
    "zeros(10, 2)"
   ]
  },
  {
   "cell_type": "code",
   "execution_count": 12,
   "metadata": {
    "collapsed": false
   },
   "outputs": [
    {
     "data": {
      "text/plain": [
       "2x2 Array{Float64,2}:\n",
       " 0.0  0.0\n",
       " 0.0  0.0"
      ]
     },
     "execution_count": 12,
     "metadata": {},
     "output_type": "execute_result"
    }
   ],
   "source": [
    "zeros(2, 2)"
   ]
  },
  {
   "cell_type": "code",
   "execution_count": 14,
   "metadata": {
    "collapsed": false
   },
   "outputs": [
    {
     "name": "stdout",
     "output_type": "stream",
     "text": [
      "search: copy! unsafe_copy! copy copysign deepcopy\n",
      "\n"
     ]
    },
    {
     "data": {
      "text/markdown": [
       "```\n",
       "copy!(dest, do, src, so, N)\n",
       "```\n",
       "\n",
       "Copy `N` elements from collection `src` starting at offset `so`, to array `dest` starting at offset `do`. Returns `dest`.\n",
       "\n",
       "```\n",
       "copy!(dest, src)\n",
       "```\n",
       "\n",
       "Copy all elements from collection `src` to array `dest`. Returns `dest`.\n"
      ],
      "text/plain": [
       "```\n",
       "copy!(dest, do, src, so, N)\n",
       "```\n",
       "\n",
       "Copy `N` elements from collection `src` starting at offset `so`, to array `dest` starting at offset `do`. Returns `dest`.\n",
       "\n",
       "```\n",
       "copy!(dest, src)\n",
       "```\n",
       "\n",
       "Copy all elements from collection `src` to array `dest`. Returns `dest`.\n"
      ]
     },
     "execution_count": 14,
     "metadata": {},
     "output_type": "execute_result"
    }
   ],
   "source": [
    "?copy!"
   ]
  },
  {
   "cell_type": "code",
   "execution_count": 15,
   "metadata": {
    "collapsed": false
   },
   "outputs": [
    {
     "name": "stdout",
     "output_type": "stream",
     "text": [
      "search: vcat hvcat VecOrMat DenseVecOrMat StridedVecOrMat AbstractVecOrMat\n",
      "\n"
     ]
    },
    {
     "data": {
      "text/markdown": [
       "```\n",
       "vcat(A...)\n",
       "```\n",
       "\n",
       "Concatenate along dimension 1\n"
      ],
      "text/plain": [
       "```\n",
       "vcat(A...)\n",
       "```\n",
       "\n",
       "Concatenate along dimension 1\n"
      ]
     },
     "execution_count": 15,
     "metadata": {},
     "output_type": "execute_result"
    }
   ],
   "source": [
    "?vcat"
   ]
  },
  {
   "cell_type": "code",
   "execution_count": null,
   "metadata": {
    "collapsed": true
   },
   "outputs": [],
   "source": []
  }
 ],
 "metadata": {
  "kernelspec": {
   "display_name": "Julia 0.4.6",
   "language": "julia",
   "name": "julia-0.4"
  },
  "language_info": {
   "file_extension": ".jl",
   "mimetype": "application/julia",
   "name": "julia",
   "version": "0.4.6"
  }
 },
 "nbformat": 4,
 "nbformat_minor": 0
}
