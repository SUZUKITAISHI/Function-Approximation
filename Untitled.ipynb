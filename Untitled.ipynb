{
 "cells": [
  {
   "cell_type": "code",
   "execution_count": 1,
   "metadata": {
    "collapsed": false
   },
   "outputs": [
    {
     "name": "stdout",
     "output_type": "stream",
     "text": [
      "search: linspace LinSpace\n",
      "\n"
     ]
    },
    {
     "data": {
      "text/markdown": [
       "```\n",
       "linspace(start, stop, n=100)\n",
       "```\n",
       "\n",
       "Construct a range of `n` linearly spaced elements from `start` to `stop`.\n"
      ],
      "text/plain": [
       "```\n",
       "linspace(start, stop, n=100)\n",
       "```\n",
       "\n",
       "Construct a range of `n` linearly spaced elements from `start` to `stop`.\n"
      ]
     },
     "execution_count": 1,
     "metadata": {},
     "output_type": "execute_result"
    }
   ],
   "source": [
    "?linspace"
   ]
  },
  {
   "cell_type": "code",
   "execution_count": 2,
   "metadata": {
    "collapsed": false
   },
   "outputs": [
    {
     "name": "stdout",
     "output_type": "stream",
     "text": [
      "search: collect Collections\n",
      "\n"
     ]
    },
    {
     "data": {
      "text/markdown": [
       "```\n",
       "collect(collection)\n",
       "```\n",
       "\n",
       "Return an array of all items in a collection. For associative collections, returns Pair{KeyType, ValType}.\n",
       "\n",
       "```\n",
       "collect(element_type, collection)\n",
       "```\n",
       "\n",
       "Return an array of type `Array{element_type,1}` of all items in a collection.\n"
      ],
      "text/plain": [
       "```\n",
       "collect(collection)\n",
       "```\n",
       "\n",
       "Return an array of all items in a collection. For associative collections, returns Pair{KeyType, ValType}.\n",
       "\n",
       "```\n",
       "collect(element_type, collection)\n",
       "```\n",
       "\n",
       "Return an array of type `Array{element_type,1}` of all items in a collection.\n"
      ]
     },
     "execution_count": 2,
     "metadata": {},
     "output_type": "execute_result"
    }
   ],
   "source": [
    "?collect"
   ]
  },
  {
   "cell_type": "code",
   "execution_count": 3,
   "metadata": {
    "collapsed": false
   },
   "outputs": [
    {
     "data": {
      "text/plain": [
       "9-element Array{Float64,1}:\n",
       " 0.0  \n",
       " 0.125\n",
       " 0.25 \n",
       " 0.375\n",
       " 0.5  \n",
       " 0.625\n",
       " 0.75 \n",
       " 0.875\n",
       " 1.0  "
      ]
     },
     "execution_count": 3,
     "metadata": {},
     "output_type": "execute_result"
    }
   ],
   "source": [
    "collect(linspace(0, 1, 9))"
   ]
  },
  {
   "cell_type": "code",
   "execution_count": 4,
   "metadata": {
    "collapsed": false
   },
   "outputs": [
    {
     "name": "stdout",
     "output_type": "stream",
     "text": [
      "search: fill fill! finally filt filt! filter filter! Filter filesize filemode\n",
      "\n"
     ]
    },
    {
     "data": {
      "text/markdown": [
       "```\n",
       "fill(x, dims)\n",
       "```\n",
       "\n",
       "Create an array filled with the value `x`. For example, `fill(1.0, (10,10))` returns a 10x10 array of floats, with each element initialized to `1.0`.\n",
       "\n",
       "If `x` is an object reference, all elements will refer to the same object. `fill(Foo(), dims)` will return an array filled with the result of evaluating `Foo()` once.\n"
      ],
      "text/plain": [
       "```\n",
       "fill(x, dims)\n",
       "```\n",
       "\n",
       "Create an array filled with the value `x`. For example, `fill(1.0, (10,10))` returns a 10x10 array of floats, with each element initialized to `1.0`.\n",
       "\n",
       "If `x` is an object reference, all elements will refer to the same object. `fill(Foo(), dims)` will return an array filled with the result of evaluating `Foo()` once.\n"
      ]
     },
     "execution_count": 4,
     "metadata": {},
     "output_type": "execute_result"
    }
   ],
   "source": [
    "?fill"
   ]
  },
  {
   "cell_type": "code",
   "execution_count": 5,
   "metadata": {
    "collapsed": false
   },
   "outputs": [
    {
     "name": "stdout",
     "output_type": "stream",
     "text": [
      "search: vcat hvcat VecOrMat DenseVecOrMat StridedVecOrMat AbstractVecOrMat\n",
      "\n"
     ]
    },
    {
     "data": {
      "text/markdown": [
       "```\n",
       "vcat(A...)\n",
       "```\n",
       "\n",
       "Concatenate along dimension 1\n"
      ],
      "text/plain": [
       "```\n",
       "vcat(A...)\n",
       "```\n",
       "\n",
       "Concatenate along dimension 1\n"
      ]
     },
     "execution_count": 5,
     "metadata": {},
     "output_type": "execute_result"
    }
   ],
   "source": [
    "?vcat"
   ]
  },
  {
   "cell_type": "code",
   "execution_count": 6,
   "metadata": {
    "collapsed": false
   },
   "outputs": [
    {
     "name": "stdout",
     "output_type": "stream",
     "text": [
      "search: cumsum cumsum! cumsum_kbn\n",
      "\n"
     ]
    },
    {
     "data": {
      "text/markdown": [
       "```rst\n",
       "..  cumsum(A, [dim])\n",
       "\n",
       "Cumulative sum along a dimension ``dim`` (defaults to 1).\n",
       "See also :func:`cumsum!` to use a preallocated output array,\n",
       "both for performance and to control the precision of the\n",
       "output (e.g. to avoid overflow).\n",
       "```\n"
      ],
      "text/plain": [
       "```rst\n",
       "..  cumsum(A, [dim])\n",
       "\n",
       "Cumulative sum along a dimension ``dim`` (defaults to 1).\n",
       "See also :func:`cumsum!` to use a preallocated output array,\n",
       "both for performance and to control the precision of the\n",
       "output (e.g. to avoid overflow).\n",
       "```\n"
      ]
     },
     "execution_count": 6,
     "metadata": {},
     "output_type": "execute_result"
    }
   ],
   "source": [
    "?cumsum"
   ]
  },
  {
   "cell_type": "code",
   "execution_count": 7,
   "metadata": {
    "collapsed": false
   },
   "outputs": [
    {
     "data": {
      "text/plain": [
       "2-element Array{Int64,1}:\n",
       " 2\n",
       " 5"
      ]
     },
     "execution_count": 7,
     "metadata": {},
     "output_type": "execute_result"
    }
   ],
   "source": [
    "A = [2, 3]\n",
    "cumsum(A, 1)"
   ]
  },
  {
   "cell_type": "code",
   "execution_count": 11,
   "metadata": {
    "collapsed": false
   },
   "outputs": [
    {
     "data": {
      "text/plain": [
       "([2,3],[2,3])"
      ]
     },
     "execution_count": 11,
     "metadata": {},
     "output_type": "execute_result"
    }
   ],
   "source": [
    "[2, 3], [[2, 3]]"
   ]
  },
  {
   "cell_type": "code",
   "execution_count": 12,
   "metadata": {
    "collapsed": false
   },
   "outputs": [
    {
     "name": "stdout",
     "output_type": "stream",
     "text": [
      "search: minimum minimum! DimensionMismatch\n",
      "\n"
     ]
    },
    {
     "data": {
      "text/markdown": [
       "```\n",
       "minimum(A, dims)\n",
       "```\n",
       "\n",
       "Compute the minimum value of an array over the given dimensions.\n",
       "\n",
       "```\n",
       "minimum(itr)\n",
       "```\n",
       "\n",
       "Returns the smallest element in a collection.\n"
      ],
      "text/plain": [
       "```\n",
       "minimum(A, dims)\n",
       "```\n",
       "\n",
       "Compute the minimum value of an array over the given dimensions.\n",
       "\n",
       "```\n",
       "minimum(itr)\n",
       "```\n",
       "\n",
       "Returns the smallest element in a collection.\n"
      ]
     },
     "execution_count": 12,
     "metadata": {},
     "output_type": "execute_result"
    }
   ],
   "source": [
    "?minimum"
   ]
  },
  {
   "cell_type": "code",
   "execution_count": 14,
   "metadata": {
    "collapsed": false
   },
   "outputs": [
    {
     "data": {
      "text/plain": [
       "0.0"
      ]
     },
     "execution_count": 14,
     "metadata": {},
     "output_type": "execute_result"
    }
   ],
   "source": [
    "minimum(linspace(0, 1, 10))"
   ]
  },
  {
   "cell_type": "code",
   "execution_count": 15,
   "metadata": {
    "collapsed": false
   },
   "outputs": [
    {
     "name": "stdout",
     "output_type": "stream",
     "text": [
      "search: AbstractVector AbstractSparseVector AbstractVecOrMat\n",
      "\n"
     ]
    },
    {
     "data": {
      "text/markdown": [
       "No documentation found.\n",
       "\n",
       "`Base.AbstractVector` is of type `TypeConstructor`:\n",
       "\n",
       "**Summary:**\n",
       "\n",
       "```julia\n",
       "immutable TypeConstructor <: Type{T}\n",
       "```\n",
       "\n",
       "**Fields:**\n",
       "\n",
       "```julia\n",
       "parameters :: SimpleVector\n",
       "body       :: Any\n",
       "```\n"
      ],
      "text/plain": [
       "No documentation found.\n",
       "\n",
       "`Base.AbstractVector` is of type `TypeConstructor`:\n",
       "\n",
       "**Summary:**\n",
       "\n",
       "```julia\n",
       "immutable TypeConstructor <: Type{T}\n",
       "```\n",
       "\n",
       "**Fields:**\n",
       "\n",
       "```julia\n",
       "parameters :: SimpleVector\n",
       "body       :: Any\n",
       "```\n"
      ]
     },
     "execution_count": 15,
     "metadata": {},
     "output_type": "execute_result"
    }
   ],
   "source": [
    "?AbstractVector"
   ]
  },
  {
   "cell_type": "code",
   "execution_count": 1,
   "metadata": {
    "collapsed": false
   },
   "outputs": [
    {
     "data": {
      "text/plain": [
       "10-element Array{Float64,1}:\n",
       " 0.0\n",
       " 0.0\n",
       " 0.0\n",
       " 0.0\n",
       " 0.0\n",
       " 0.0\n",
       " 0.0\n",
       " 0.0\n",
       " 0.0\n",
       " 0.0"
      ]
     },
     "execution_count": 1,
     "metadata": {},
     "output_type": "execute_result"
    }
   ],
   "source": [
    "zeros(10)"
   ]
  },
  {
   "cell_type": "code",
   "execution_count": 2,
   "metadata": {
    "collapsed": false
   },
   "outputs": [
    {
     "name": "stdout",
     "output_type": "stream",
     "text": [
      "search: push! pushdisplay\n",
      "\n"
     ]
    },
    {
     "data": {
      "text/markdown": [
       "```rst\n",
       "..  push!(collection, items...) -> collection\n",
       "\n",
       "Insert one or more ``items`` at the end of ``collection``.\n",
       "\n",
       ".. doctest::\n",
       "\n",
       "  julia> push!([1, 2, 3], 4, 5, 6)\n",
       "  6-element Array{Int64,1}:\n",
       "   1\n",
       "   2\n",
       "   3\n",
       "   4\n",
       "   5\n",
       "   6\n",
       "\n",
       "Use :func:`append!` to add all the elements of another collection to\n",
       "``collection``.\n",
       "The result of the preceding example is equivalent to\n",
       "``append!([1, 2, 3], [4, 5, 6])``.\n",
       "```\n"
      ],
      "text/plain": [
       "```rst\n",
       "..  push!(collection, items...) -> collection\n",
       "\n",
       "Insert one or more ``items`` at the end of ``collection``.\n",
       "\n",
       ".. doctest::\n",
       "\n",
       "  julia> push!([1, 2, 3], 4, 5, 6)\n",
       "  6-element Array{Int64,1}:\n",
       "   1\n",
       "   2\n",
       "   3\n",
       "   4\n",
       "   5\n",
       "   6\n",
       "\n",
       "Use :func:`append!` to add all the elements of another collection to\n",
       "``collection``.\n",
       "The result of the preceding example is equivalent to\n",
       "``append!([1, 2, 3], [4, 5, 6])``.\n",
       "```\n"
      ]
     },
     "execution_count": 2,
     "metadata": {},
     "output_type": "execute_result"
    }
   ],
   "source": [
    "?push!"
   ]
  },
  {
   "cell_type": "code",
   "execution_count": 3,
   "metadata": {
    "collapsed": false
   },
   "outputs": [
    {
     "data": {
      "text/plain": [
       "2-element Array{Any,1}:\n",
       " 2\n",
       " 3"
      ]
     },
     "execution_count": 3,
     "metadata": {},
     "output_type": "execute_result"
    }
   ],
   "source": [
    "push!([], 2, 3)"
   ]
  },
  {
   "cell_type": "code",
   "execution_count": 4,
   "metadata": {
    "collapsed": false
   },
   "outputs": [
    {
     "data": {
      "text/plain": [
       "4-element Array{Int64,1}:\n",
       " 2\n",
       " 3\n",
       " 4\n",
       " 5"
      ]
     },
     "execution_count": 4,
     "metadata": {},
     "output_type": "execute_result"
    }
   ],
   "source": [
    "push!([2, 3], 4, 5)"
   ]
  },
  {
   "cell_type": "code",
   "execution_count": 6,
   "metadata": {
    "collapsed": false
   },
   "outputs": [
    {
     "name": "stdout",
     "output_type": "stream",
     "text": [
      "search: zeros spzeros nonzeros count_zeros set_zero_subnormals\n",
      "\n"
     ]
    },
    {
     "data": {
      "text/markdown": [
       "```\n",
       "zeros(type, dims)\n",
       "```\n",
       "\n",
       "Create an array of all zeros of specified type. The type defaults to Float64 if not specified.\n",
       "\n",
       "```\n",
       "zeros(A)\n",
       "```\n",
       "\n",
       "Create an array of all zeros with the same element type and shape as `A`.\n"
      ],
      "text/plain": [
       "```\n",
       "zeros(type, dims)\n",
       "```\n",
       "\n",
       "Create an array of all zeros of specified type. The type defaults to Float64 if not specified.\n",
       "\n",
       "```\n",
       "zeros(A)\n",
       "```\n",
       "\n",
       "Create an array of all zeros with the same element type and shape as `A`.\n"
      ]
     },
     "execution_count": 6,
     "metadata": {},
     "output_type": "execute_result"
    }
   ],
   "source": [
    "?zeros"
   ]
  },
  {
   "cell_type": "code",
   "execution_count": 7,
   "metadata": {
    "collapsed": false
   },
   "outputs": [
    {
     "data": {
      "text/plain": [
       "10x2 Array{Float64,2}:\n",
       " 0.0  0.0\n",
       " 0.0  0.0\n",
       " 0.0  0.0\n",
       " 0.0  0.0\n",
       " 0.0  0.0\n",
       " 0.0  0.0\n",
       " 0.0  0.0\n",
       " 0.0  0.0\n",
       " 0.0  0.0\n",
       " 0.0  0.0"
      ]
     },
     "execution_count": 7,
     "metadata": {},
     "output_type": "execute_result"
    }
   ],
   "source": [
    "zeros(10, 2)"
   ]
  },
  {
   "cell_type": "code",
   "execution_count": 12,
   "metadata": {
    "collapsed": false
   },
   "outputs": [
    {
     "data": {
      "text/plain": [
       "2x2 Array{Float64,2}:\n",
       " 0.0  0.0\n",
       " 0.0  0.0"
      ]
     },
     "execution_count": 12,
     "metadata": {},
     "output_type": "execute_result"
    }
   ],
   "source": [
    "zeros(2, 2)"
   ]
  },
  {
   "cell_type": "code",
   "execution_count": 14,
   "metadata": {
    "collapsed": false
   },
   "outputs": [
    {
     "name": "stdout",
     "output_type": "stream",
     "text": [
      "search: copy! unsafe_copy! copy copysign deepcopy\n",
      "\n"
     ]
    },
    {
     "data": {
      "text/markdown": [
       "```\n",
       "copy!(dest, do, src, so, N)\n",
       "```\n",
       "\n",
       "Copy `N` elements from collection `src` starting at offset `so`, to array `dest` starting at offset `do`. Returns `dest`.\n",
       "\n",
       "```\n",
       "copy!(dest, src)\n",
       "```\n",
       "\n",
       "Copy all elements from collection `src` to array `dest`. Returns `dest`.\n"
      ],
      "text/plain": [
       "```\n",
       "copy!(dest, do, src, so, N)\n",
       "```\n",
       "\n",
       "Copy `N` elements from collection `src` starting at offset `so`, to array `dest` starting at offset `do`. Returns `dest`.\n",
       "\n",
       "```\n",
       "copy!(dest, src)\n",
       "```\n",
       "\n",
       "Copy all elements from collection `src` to array `dest`. Returns `dest`.\n"
      ]
     },
     "execution_count": 14,
     "metadata": {},
     "output_type": "execute_result"
    }
   ],
   "source": [
    "?copy!"
   ]
  },
  {
   "cell_type": "code",
   "execution_count": 15,
   "metadata": {
    "collapsed": false
   },
   "outputs": [
    {
     "name": "stdout",
     "output_type": "stream",
     "text": [
      "search: vcat hvcat VecOrMat DenseVecOrMat StridedVecOrMat AbstractVecOrMat\n",
      "\n"
     ]
    },
    {
     "data": {
      "text/markdown": [
       "```\n",
       "vcat(A...)\n",
       "```\n",
       "\n",
       "Concatenate along dimension 1\n"
      ],
      "text/plain": [
       "```\n",
       "vcat(A...)\n",
       "```\n",
       "\n",
       "Concatenate along dimension 1\n"
      ]
     },
     "execution_count": 15,
     "metadata": {},
     "output_type": "execute_result"
    }
   ],
   "source": [
    "?vcat"
   ]
  },
  {
   "cell_type": "code",
   "execution_count": 42,
   "metadata": {
    "collapsed": false
   },
   "outputs": [
    {
     "data": {
      "text/plain": [
       "linspace(-4.0,4.0,10)"
      ]
     },
     "execution_count": 42,
     "metadata": {},
     "output_type": "execute_result"
    }
   ],
   "source": [
    "ygrid0 = linspace(-4, 4, 10)"
   ]
  },
  {
   "cell_type": "code",
   "execution_count": 43,
   "metadata": {
    "collapsed": false
   },
   "outputs": [
    {
     "data": {
      "text/plain": [
       "1 dimensional Basis on the hypercube formed by [-4.0] × [4.0].\n",
       "Basis families are BasisMatrices.Cheb\n"
      ]
     },
     "execution_count": 43,
     "metadata": {},
     "output_type": "execute_result"
    }
   ],
   "source": [
    "using BasisMatrices\n",
    "\n",
    "# 1st method\n",
    "y_basis = Basis(ChebParams(length(ygrid0), minimum(ygrid0), maximum(ygrid0)))"
   ]
  },
  {
   "cell_type": "code",
   "execution_count": 44,
   "metadata": {
    "collapsed": false
   },
   "outputs": [],
   "source": [
    "S, (ygrid) = nodes(y_basis);"
   ]
  },
  {
   "cell_type": "code",
   "execution_count": 45,
   "metadata": {
    "collapsed": false
   },
   "outputs": [
    {
     "data": {
      "text/plain": [
       "BasisMatrix{BasisMatrices.Expanded} of order 1x1 Array{Int64,2}:\n",
       " 0"
      ]
     },
     "execution_count": 45,
     "metadata": {},
     "output_type": "execute_result"
    }
   ],
   "source": [
    "Φ = BasisMatrix(y_basis, Expanded(), S, 0)"
   ]
  },
  {
   "cell_type": "code",
   "execution_count": 46,
   "metadata": {
    "collapsed": true
   },
   "outputs": [],
   "source": [
    "# Actual function at interpolation nodes\n",
    "f(x::Vector{Float64}) = 1./(1 .+ 25x.^2)\n",
    "y = f(S[:,1])\n",
    "\n",
    "# Get coefficients\n",
    "c = Φ.vals[1] \\ y;"
   ]
  },
  {
   "cell_type": "code",
   "execution_count": 47,
   "metadata": {
    "collapsed": true
   },
   "outputs": [],
   "source": [
    "using QuantEcon\n",
    "\n",
    "ygridf = linspace(-4, 4, 100)\n",
    "Sf = gridmake(ygridf)\n",
    "yf = f(Sf[:, 1])\n",
    "interp = funeval(c, y_basis, Sf);"
   ]
  },
  {
   "cell_type": "code",
   "execution_count": 48,
   "metadata": {
    "collapsed": false
   },
   "outputs": [
    {
     "data": {
      "text/html": [
       "<html>\n",
       "<head>\n",
       "     <script src=\"C:\\Users\\taishi\\.julia\\v0.4\\PlotlyJS\\deps\\plotly-latest.min.js\"></script>\n",
       "</head>\n",
       "<body>\n",
       "     <div id=\"e77542f9-a6a3-47c4-8516-c8e0a5fab25e\" class=\"plotly-graph-div\"></div>\n",
       "\n",
       "<script>\n",
       "    window.PLOTLYENV=window.PLOTLYENV || {};\n",
       "    window.PLOTLYENV.BASE_URL=\"https://plot.ly\";\n",
       "    Plotly.newPlot('e77542f9-a6a3-47c4-8516-c8e0a5fab25e', [{\"yaxis\":\"y\",\"y\":[0.004705496645941063,0.0016106019426157382,0.00040598228766310345,0.0004781573215342002,0.0013363126196328772,0.002596848534386336,0.003969163215858923,0.005242611396038178,0.006274581791810484,0.0069796372515321566,0.007319663039990527,0.0072949699264376255,0.006936300010268245,0.006297684488801903,0.005450103841517444,0.004475902174976875,0.003463908742564076,0.002505220923052288,0.0016896042119025033,0.001102466049084136,0.0008223615770969754,0.0009189906927625612,0.0014516470262413922,0.0024680807506207735,0.004003738395306881,0.006081344106342867,0.008710788066663533,0.011889289059185338,0.015601799425519387,0.019821621942983224,0.024511209412475886,0.02962311901966913,0.03510109480185642,0.040881252822689396,0.0468933449269205,0.053062078217158644,0.05930846866453316,0.0655512085350505,0.07170802858331561,0.0776970372351791,0.08343802025076008,0.08885368562918194,0.09387083978624813,0.09842148230617255,0.10244380783836826,0.10588310498018645,0.10869254325638586,0.11083384057600222,0.11227780481717453,0.11300474446037469,0.1130047444603747,0.1122778048171746,0.11083384057600233,0.10869254325638601,0.10588310498018663,0.10244380783836848,0.0984214823061728,0.09387083978624841,0.08885368562918224,0.08343802025076039,0.0776970372351794,0.0717080285833159,0.0655512085350508,0.059308468664533445,0.053062078217158894,0.04689334492692073,0.04088125282268959,0.035101094801856574,0.02962311901966925,0.024511209412475962,0.019821621942983265,0.01560179942551939,0.011889289059185324,0.008710788066663488,0.0060813441063427955,0.0040037383953067905,0.0024680807506206625,0.0014516470262412793,0.0009189906927624511,0.0008223615770968731,0.001102466049084044,0.0016896042119024183,0.002505220923052231,0.0034639087425640484,0.004475902174976872,0.005450103841517461,0.006297684488801952,0.006936300010268314,0.007294969926437709,0.007319663039990617,0.006979637251532244,0.00627458179181056,0.0052426113960382355,0.003969163215858953,0.002596848534386336,0.0013363126196328495,0.00047815732153415336,0.00040598228766305835,0.0016106019426157271,0.004705496645941143],\"showlegend\":true,\"name\":\"Interpolant\",\"type\":\"scatter\",\"xaxis\":\"x\",\"line\":{\"width\":2,\"dash\":\"solid\",\"color\":\"rgba(0, 154, 250, 1.000)\",\"shape\":\"linear\"},\"x\":[-4.0,-3.919191919191919,-3.8383838383838382,-3.757575757575758,-3.676767676767677,-3.595959595959596,-3.515151515151515,-3.4343434343434343,-3.3535353535353534,-3.272727272727273,-3.191919191919192,-3.111111111111111,-3.0303030303030303,-2.9494949494949494,-2.8686868686868685,-2.787878787878788,-2.707070707070707,-2.6262626262626263,-2.5454545454545454,-2.4646464646464645,-2.3838383838383836,-2.303030303030303,-2.2222222222222223,-2.1414141414141414,-2.0606060606060606,-1.97979797979798,-1.898989898989899,-1.8181818181818181,-1.7373737373737375,-1.6565656565656566,-1.5757575757575757,-1.494949494949495,-1.4141414141414141,-1.3333333333333333,-1.2525252525252526,-1.1717171717171717,-1.0909090909090908,-1.0101010101010102,-0.9292929292929293,-0.8484848484848485,-0.7676767676767676,-0.6868686868686869,-0.6060606060606061,-0.5252525252525253,-0.4444444444444444,-0.36363636363636365,-0.2828282828282828,-0.20202020202020202,-0.12121212121212122,-0.04040404040404041,0.04040404040404041,0.12121212121212122,0.20202020202020202,0.2828282828282828,0.36363636363636365,0.4444444444444444,0.5252525252525253,0.6060606060606061,0.6868686868686869,0.7676767676767676,0.8484848484848485,0.9292929292929293,1.0101010101010102,1.0909090909090908,1.1717171717171717,1.2525252525252526,1.3333333333333333,1.4141414141414141,1.494949494949495,1.5757575757575757,1.6565656565656566,1.7373737373737375,1.8181818181818181,1.898989898989899,1.97979797979798,2.0606060606060606,2.1414141414141414,2.2222222222222223,2.303030303030303,2.3838383838383836,2.4646464646464645,2.5454545454545454,2.6262626262626263,2.707070707070707,2.787878787878788,2.8686868686868685,2.9494949494949494,3.0303030303030303,3.111111111111111,3.191919191919192,3.272727272727273,3.3535353535353534,3.4343434343434343,3.515151515151515,3.595959595959596,3.676767676767677,3.757575757575758,3.8383838383838382,3.919191919191919,4.0],\"mode\":\"lines\"},{\"yaxis\":\"y\",\"y\":[0.0024937655860349127,0.0025973915838788404,0.0027076074071475205,0.0028249833328577467,0.0029501526247207796,0.00308382006046817,0.0032267718355264915,0.0033798871025977305,0.003544151463024712,0.003720672796039482,0.003910699899968119,0.0041156445302576086,0.004337107559470945,0.0045769101630194434,0.004837131163196544,0.005120151958963556,0.005428710851495041,0.0057659690752035085,0.00613559150144516,0.0065418458537939836,0.0069897254387923,0.007485101966471691,0.008034917170915583,0.008647424874338385,0.009332499207294604,0.010102030404009065,0.010970437686996097,0.01195534038138524,0.013078445318327568,0.014366733557998303,0.015854066881160013,0.017583391490148023,0.019609804702271503,0.022004889975550123,0.024862950626710734,0.028310143529337008,0.032518140284869664,0.03772502800220168,0.04426809273670851,0.052636666827782876,0.0635598990927426,0.07815727147311426,0.09820542880331859,0.1266262709784111,0.1683991683991684,0.23224568138195778,0.33335600829903744,0.49497500126256255,0.7313633310946944,0.9607881580237232,0.9607881580237232,0.7313633310946944,0.49497500126256255,0.33335600829903744,0.23224568138195778,0.1683991683991684,0.1266262709784111,0.09820542880331859,0.07815727147311426,0.0635598990927426,0.052636666827782876,0.04426809273670851,0.03772502800220168,0.032518140284869664,0.028310143529337008,0.024862950626710734,0.022004889975550123,0.019609804702271503,0.017583391490148023,0.015854066881160013,0.014366733557998303,0.013078445318327568,0.01195534038138524,0.010970437686996097,0.010102030404009065,0.009332499207294604,0.008647424874338385,0.008034917170915583,0.007485101966471691,0.0069897254387923,0.0065418458537939836,0.00613559150144516,0.0057659690752035085,0.005428710851495041,0.005120151958963556,0.004837131163196544,0.0045769101630194434,0.004337107559470945,0.0041156445302576086,0.003910699899968119,0.003720672796039482,0.003544151463024712,0.0033798871025977305,0.0032267718355264915,0.00308382006046817,0.0029501526247207796,0.0028249833328577467,0.0027076074071475205,0.0025973915838788404,0.0024937655860349127],\"showlegend\":true,\"name\":\"Original\",\"type\":\"scatter\",\"xaxis\":\"x\",\"line\":{\"width\":2,\"dash\":\"solid\",\"color\":\"rgba(227, 111, 71, 1.000)\",\"shape\":\"linear\"},\"x\":[-4.0,-3.919191919191919,-3.8383838383838382,-3.757575757575758,-3.676767676767677,-3.595959595959596,-3.515151515151515,-3.4343434343434343,-3.3535353535353534,-3.272727272727273,-3.191919191919192,-3.111111111111111,-3.0303030303030303,-2.9494949494949494,-2.8686868686868685,-2.787878787878788,-2.707070707070707,-2.6262626262626263,-2.5454545454545454,-2.4646464646464645,-2.3838383838383836,-2.303030303030303,-2.2222222222222223,-2.1414141414141414,-2.0606060606060606,-1.97979797979798,-1.898989898989899,-1.8181818181818181,-1.7373737373737375,-1.6565656565656566,-1.5757575757575757,-1.494949494949495,-1.4141414141414141,-1.3333333333333333,-1.2525252525252526,-1.1717171717171717,-1.0909090909090908,-1.0101010101010102,-0.9292929292929293,-0.8484848484848485,-0.7676767676767676,-0.6868686868686869,-0.6060606060606061,-0.5252525252525253,-0.4444444444444444,-0.36363636363636365,-0.2828282828282828,-0.20202020202020202,-0.12121212121212122,-0.04040404040404041,0.04040404040404041,0.12121212121212122,0.20202020202020202,0.2828282828282828,0.36363636363636365,0.4444444444444444,0.5252525252525253,0.6060606060606061,0.6868686868686869,0.7676767676767676,0.8484848484848485,0.9292929292929293,1.0101010101010102,1.0909090909090908,1.1717171717171717,1.2525252525252526,1.3333333333333333,1.4141414141414141,1.494949494949495,1.5757575757575757,1.6565656565656566,1.7373737373737375,1.8181818181818181,1.898989898989899,1.97979797979798,2.0606060606060606,2.1414141414141414,2.2222222222222223,2.303030303030303,2.3838383838383836,2.4646464646464645,2.5454545454545454,2.6262626262626263,2.707070707070707,2.787878787878788,2.8686868686868685,2.9494949494949494,3.0303030303030303,3.111111111111111,3.191919191919192,3.272727272727273,3.3535353535353534,3.4343434343434343,3.515151515151515,3.595959595959596,3.676767676767677,3.757575757575758,3.8383838383838382,3.919191919191919,4.0],\"mode\":\"lines\"}],\n",
       "               {\"yaxis\":{\"type\":\"-\",\"titlefont\":{\"size\":15,\"color\":\"rgba(0, 0, 0, 1.000)\",\"family\":\"Helvetica\"},\"title\":\"\",\"tickfont\":{\"size\":11,\"color\":\"rgba(0, 0, 0, 1.000)\",\"family\":\"Helvetica\"},\"tickmode\":\"array\",\"showgrid\":true,\"tickvals\":[0.25,0.5,0.75],\"domain\":[0.09549978127734039,0.9901574803149606],\"ticktext\":[\"0.25\",\"0.50\",\"0.75\"],\"zeroline\":false,\"linecolor\":\"rgba(0, 0, 0, 1.000)\",\"tickcolor\":\"rgba(0, 0, 0, 1.000)\",\"anchor\":\"x\"},\"annotations\":[],\"width\":600,\"plot_bgcolor\":\"rgba(255, 255, 255, 1.000)\",\"showlegend\":true,\"legend\":{\"bgcolor\":\"rgba(255, 255, 255, 1.000)\",\"font\":{\"size\":11,\"color\":\"rgba(0, 0, 0, 1.000)\",\"family\":\"Helvetica\"},\"bordercolor\":\"rgba(0, 0, 0, 1.000)\"},\"xaxis\":{\"type\":\"-\",\"titlefont\":{\"size\":15,\"color\":\"rgba(0, 0, 0, 1.000)\",\"family\":\"Helvetica\"},\"title\":\"a\",\"tickfont\":{\"size\":11,\"color\":\"rgba(0, 0, 0, 1.000)\",\"family\":\"Helvetica\"},\"tickmode\":\"array\",\"showgrid\":true,\"tickvals\":[-4.0,-2.0,0.0,2.0,4.0],\"domain\":[0.05905511811023622,0.9934383202099738],\"ticktext\":[\"-4\",\"-2\",\"0\",\"2\",\"4\"],\"zeroline\":false,\"linecolor\":\"rgba(0, 0, 0, 1.000)\",\"tickcolor\":\"rgba(0, 0, 0, 1.000)\",\"anchor\":\"y\"},\"paper_bgcolor\":\"rgba(255, 255, 255, 1.000)\",\"margin\":{\"r\":0,\"l\":0,\"b\":0,\"t\":20},\"height\":400}, {showLink: false});\n",
       "\n",
       " </script>\n",
       "\n",
       "</body>\n",
       "</html>\n"
      ]
     },
     "execution_count": 48,
     "metadata": {},
     "output_type": "execute_result"
    }
   ],
   "source": [
    "using Plots\n",
    "plotlyjs()\n",
    "\n",
    "plt_a = plot(ygridf, [interp[1:length(ygridf)] yf[1:length(ygridf)]], \n",
    "             label=[\"Interpolant\", \"Original\"]',\n",
    "             lw=2,\n",
    "             xlabel=\"a\")"
   ]
  },
  {
   "cell_type": "code",
   "execution_count": null,
   "metadata": {
    "collapsed": true
   },
   "outputs": [],
   "source": []
  }
 ],
 "metadata": {
  "kernelspec": {
   "display_name": "Julia 0.4.6",
   "language": "julia",
   "name": "julia-0.4"
  },
  "language_info": {
   "file_extension": ".jl",
   "mimetype": "application/julia",
   "name": "julia",
   "version": "0.4.6"
  }
 },
 "nbformat": 4,
 "nbformat_minor": 0
}
